{
 "cells": [
  {
   "cell_type": "markdown",
   "metadata": {
    "id": "aJ7DIi_memWc"
   },
   "source": [
    "# Install torch 2.3.0 + cu121 to ensure reproducibility"
   ]
  },
  {
   "cell_type": "code",
   "execution_count": 1,
   "metadata": {
    "id": "-_mWDvsMeXh5"
   },
   "outputs": [],
   "source": [
    "# !pip install torch==2.3.0+cu121 # for reproducibility only"
   ]
  },
  {
   "cell_type": "markdown",
   "metadata": {
    "id": "AocYqgATRhyX"
   },
   "source": [
    "# Get package from GitHub"
   ]
  },
  {
   "cell_type": "code",
   "execution_count": 2,
   "metadata": {
    "colab": {
     "base_uri": "https://localhost:8080/"
    },
    "id": "2araHl2dbFNo",
    "outputId": "ee723c9a-0fe3-45c5-94ca-dc416d0ad6af",
    "scrolled": true
   },
   "outputs": [],
   "source": [
    "# !git clone https://github.com/zcheng-a/LCD_kNN # load package from github\n",
    "# from LCD_kNN import LCD_kNN as lk\n",
    "import LCD_kNN as lk"
   ]
  },
  {
   "cell_type": "markdown",
   "metadata": {
    "id": "gMVFNv2XM66-"
   },
   "source": [
    "# Load standard package"
   ]
  },
  {
   "cell_type": "code",
   "execution_count": 3,
   "metadata": {
    "colab": {
     "base_uri": "https://localhost:8080/"
    },
    "id": "vnaqTcr_NDeC",
    "outputId": "200eed01-a5dc-4b0a-865e-a3fc043a1d94"
   },
   "outputs": [
    {
     "name": "stdout",
     "output_type": "stream",
     "text": [
      "2.3.0+cu121\n",
      "device is: cuda\n",
      "NVIDIA L40\n"
     ]
    }
   ],
   "source": [
    "### main package\n",
    "import numpy as np\n",
    "import torch\n",
    "print(torch.__version__)\n",
    "import torch.nn as nn\n",
    "# import torch.nn.functional as F\n",
    "\n",
    "### check if device is GPU\n",
    "device = torch.device('cuda' if torch.cuda.is_available() else 'cpu')\n",
    "print('device is:', device)\n",
    "print(torch.cuda.get_device_name(0))\n",
    "\n",
    "### set seed\n",
    "np.random.seed(0)\n",
    "torch.manual_seed(0)\n",
    "\n",
    "### Auxiliary\n",
    "import matplotlib.pyplot as plt\n",
    "import time\n",
    "from IPython.display import display, clear_output\n",
    "\n",
    "# Set the custom color cycle for plt.plot\n",
    "unique_colors =  [\n",
    "    '#1a6691', '#e5670a', '#268227', '#b52224', '#7d4e99',\n",
    "    '#774c41', '#c565a1', '#6a6868', '#a1a31d', '#1587af',\n",
    "    '#43719d', '#d67c4c', '#549456', '#c16d70', '#8c7a9d',\n",
    "    '#977468', '#d7a2be', '#969696', '#c5c85e', '#4ea9bf'\n",
    "]"
   ]
  },
  {
   "cell_type": "markdown",
   "metadata": {
    "id": "-71Rw8p8NLSz"
   },
   "source": [
    "# Prepare data"
   ]
  },
  {
   "cell_type": "code",
   "execution_count": 4,
   "metadata": {
    "id": "uX80bSTlNBZn"
   },
   "outputs": [],
   "source": [
    "### model parameters\n",
    "d_X = 3\n",
    "d_Y = 3\n",
    "n_mix = 2\n",
    "\n",
    "A = torch.randn((n_mix, d_Y, d_X), device=device)\n",
    "B = torch.randn((n_mix, d_Y, d_Y, d_X), device=device)\n",
    "noise_scale = 0.1 ### governs the scale of torch.randn below\n",
    "\n",
    "\n",
    "\n",
    "### prepare data\n",
    "n_data = int(1e6)\n",
    "\n",
    "x_data = torch.rand(n_data, d_X, device=device) - 0.5\n",
    "y_data = torch.sin( torch.matmul(A.unsqueeze(0), x_data.unsqueeze(1).unsqueeze(-1)) )[:,:,:,0]\n",
    "noise = torch.matmul(B.unsqueeze(0), x_data.unsqueeze(1).unsqueeze(-2).unsqueeze(-1))[:,:,:,:,0]\n",
    "noise = torch.matmul( torch.cos(noise), noise_scale * torch.randn(size=(n_data, 1, d_Y, 1), device=device) )[:,:,:,0]\n",
    "y_data = y_data + noise\n",
    "y_data = y_data[ torch.rand(n_data, n_mix, device=device).sort(-1)[1] == 0 ]\n",
    "\n",
    "data_tensor = torch.cat( (x_data, y_data), 1)\n",
    "\n",
    "del x_data, noise, y_data\n",
    "torch.cuda.empty_cache()"
   ]
  },
  {
   "cell_type": "markdown",
   "metadata": {
    "id": "e87_Mc7PSidL"
   },
   "source": [
    "# Train LipNet"
   ]
  },
  {
   "cell_type": "code",
   "execution_count": 5,
   "metadata": {
    "id": "mRPZoFhtSiGk"
   },
   "outputs": [],
   "source": [
    "k = 300\n",
    "nns_type = 'rbsp'\n",
    "L = 0.1\n",
    "tau = 1e-3\n",
    "n_bisect = 5\n",
    "n_part_batch = 8\n",
    "one_over_eps = 10 # for iterations i>500\n",
    "bool_sparse = False # for iterations i>500\n",
    "n_train = int(1e4)+1\n",
    "\n",
    "knn_lip = lk.LearnCondDistn_kNN(d_X, d_Y, data_tensor)\n",
    "knn_lip.init_net_lip(n_atoms=k, n_neurons=2*k, n_layers=5, L=L, input_actvn=nn.ELU(), hidden_actvn=nn.ELU(), L_requires_grad=False)\n",
    "\n",
    "if knn_lip.atomnet.L.requires_grad:\n",
    "    optimizer_lip = torch.optim.Adam([\n",
    "        {'params': knn_lip.atomnet.input_fc.parameters(), 'lr': 1e-3},\n",
    "        {'params': knn_lip.atomnet.hidden_layers.parameters(), 'lr': 1e-3},\n",
    "        {'params': knn_lip.atomnet.output_fc.parameters(), 'lr': 1e-3},\n",
    "        {'params': knn_lip.atomnet.L, 'lr': 1e-2}\n",
    "        ])\n",
    "else:\n",
    "    optimizer_lip = torch.optim.Adam(knn_lip.atomnet.parameters(), lr=1e-4)"
   ]
  },
  {
   "cell_type": "code",
   "execution_count": 6,
   "metadata": {
    "colab": {
     "base_uri": "https://localhost:8080/",
     "height": 507
    },
    "id": "RN5tQm9jShj_",
    "outputId": "334b4658-755c-4f06-b1cd-a1edf70b0ac5"
   },
   "outputs": [
    {
     "data": {
      "text/plain": [
       "'Training progress:10000/10000'"
      ]
     },
     "metadata": {},
     "output_type": "display_data"
    },
    {
     "data": {
      "image/png": "[encoded data removed]",
      "text/plain": [
       "<Figure size 640x480 with 1 Axes>"
      ]
     },
     "metadata": {},
     "output_type": "display_data"
    },
    {
     "name": "stdout",
     "output_type": "stream",
     "text": [
      "This cell takes 348.29 seconds.\n",
      "Number of nan loss: 0\n"
     ]
    }
   ],
   "source": [
    "time_start = time.time()\n",
    "loss_lst = []\n",
    "n_nan = 0\n",
    "for i in range(n_train):\n",
    "\n",
    "    ### compute loss\n",
    "    if i <= 100: ### in case of nan\n",
    "        knn_lip.set_compute_loss_param(k, n_bisect=n_bisect, n_part_batch=n_part_batch, n_iter_skh=5, one_over_eps=1, nns_type=nns_type)\n",
    "    elif i <= 500:\n",
    "        knn_lip.set_compute_loss_param(k, n_bisect=n_bisect, n_part_batch=n_part_batch, n_iter_skh=5, one_over_eps=10, nns_type=nns_type)\n",
    "    else:\n",
    "        knn_lip.set_compute_loss_param(k, n_bisect=n_bisect, n_part_batch=n_part_batch, n_iter_skh=10, one_over_eps=one_over_eps, bool_sparse=bool_sparse, gamma_sparse=0.5, nns_type=nns_type)\n",
    "\n",
    "    loss = knn_lip.compute_loss()\n",
    "\n",
    "    ### Step\n",
    "    if torch.isnan(loss):\n",
    "        n_nan = n_nan + 1\n",
    "        continue\n",
    "    optimizer_lip.zero_grad()\n",
    "    loss.backward()\n",
    "    optimizer_lip.step()\n",
    "    if knn_lip.lip_bool:\n",
    "        knn_lip.atomnet.update_nor(mmt_inoutweight=tau, mmt_uh=tau, p_update=1)\n",
    "\n",
    "    # print loss\n",
    "    if i % 100 == 0:\n",
    "        clear_output(wait=True)\n",
    "        display('Training progress:' + str(i) + '/' + str(n_train-1))\n",
    "        # print(i, 'loss:', loss.item())\n",
    "        # print()\n",
    "        loss_lst.append(loss.detach().cpu().numpy())\n",
    "\n",
    "plt.plot(np.log(np.array(loss_lst)), '*-')\n",
    "plt.title('log loss')\n",
    "plt.show()\n",
    "\n",
    "time_end = time.time()\n",
    "print(\"This cell takes %.2f seconds.\" % (time_end-time_start))\n",
    "print(\"Number of nan loss: \" + str(n_nan))\n",
    "del loss"
   ]
  },
  {
   "cell_type": "code",
   "execution_count": 7,
   "metadata": {
    "id": "rSLnl_H5mS2U"
   },
   "outputs": [],
   "source": [
    "import matplotlib.pyplot as plt\n",
    "import matplotlib.gridspec as gridspec\n",
    "# import matplotlib as mpl\n",
    "# mpl.rcParams['lines.linewidth'] = 2"
   ]
  },
  {
   "cell_type": "markdown",
   "metadata": {
    "id": "e5dt-52Pnn6d"
   },
   "source": [
    "# Plot histograms of projected W errors"
   ]
  },
  {
   "cell_type": "code",
   "execution_count": 8,
   "metadata": {
    "colab": {
     "base_uri": "https://localhost:8080/",
     "height": 54
    },
    "id": "iGIvB6Fi_yRj",
    "outputId": "6a4f008a-5a39-4997-af37-6b5548d96cd8"
   },
   "outputs": [
    {
     "data": {
      "text/plain": [
       "'Projected W error compuations:10000/10000'"
      ]
     },
     "metadata": {},
     "output_type": "display_data"
    },
    {
     "name": "stdout",
     "output_type": "stream",
     "text": [
      "This cell takes 54.60 seconds.\n"
     ]
    }
   ],
   "source": [
    "time_start = time.time()\n",
    "\n",
    "N_q = int(1e4)\n",
    "x_q = torch.rand(N_q, d_X, device=device) - 0.5\n",
    "\n",
    "# prepare atoms from raw k-NN estimator\n",
    "k_lst = [300, 1000, 3000, 10000]\n",
    "atoms_raw = []\n",
    "for k_ in k_lst:\n",
    "    atoms_raw.append(torch.zeros(size=[N_q, k_, d_X],device=device))\n",
    "for i in range(N_q):\n",
    "    indx_temp = (data_tensor[:,:d_X] - x_q[i].view(1,-1)).abs().sum(-1).sort(-1)[1]\n",
    "    for j in range(len(k_lst)):\n",
    "        k_ = k_lst[j]\n",
    "        atoms_raw[j][i] = data_tensor[indx_temp[:k_], d_X:]\n",
    "\n",
    "# prepare atoms from net\n",
    "knn_lip.atomnet.eval()\n",
    "with torch.no_grad():\n",
    "    y_lip = knn_lip.atomnet(x_q)\n",
    "\n",
    "# prepare vectors for pojection\n",
    "unif_simplex = torch.distributions.dirichlet.Dirichlet(torch.ones(d_X, device=device))\n",
    "vec = unif_simplex.rsample(sample_shape=[N_q])\n",
    "# angel_1 = torch.rand(size=[N_q,1], device=device)\n",
    "# angel_2 = torch.rand(size=[N_q,1], device=device)\n",
    "# vec = torch.cat((torch.sin(angel_1)*torch.cos(angel_2), torch.sin(angel_1)*torch.sin(angel_2), torch.cos(angel_1)), dim=-1)\n",
    "\n",
    "# prepare mean and std for true cdf\n",
    "mean = torch.sum(torch.sin( torch.matmul(A.unsqueeze(0), x_q.unsqueeze(1).unsqueeze(-1)) )[:,:,:,0] * vec.unsqueeze(1), -1)\n",
    "std = torch.matmul(B.unsqueeze(0), x_q.unsqueeze(1).unsqueeze(-2).unsqueeze(-1))[:,:,:,:,0]\n",
    "std = noise_scale * torch.matmul( torch.cos(std).transpose(-2,-1), vec.unsqueeze(1).unsqueeze(-1) )[:,:,:,0].square().sum(-1).sqrt()\n",
    "\n",
    "# collect projected W errors\n",
    "proj_W_all = []\n",
    "for _ in range(len(k_lst)+1):\n",
    "    proj_W_all.append(torch.zeros(N_q, device=device))\n",
    "\n",
    "def compute_proj_W(atoms_, vec_, proj_cdf_, n_mix=n_mix, n_int=10000, device=device):\n",
    "    proj_atoms_ = (atoms_ * vec_.view(1,-1)).sum(-1).sort()[0]\n",
    "    y_int = torch.linspace(proj_atoms_[0], proj_atoms_[-1], n_int, device=device)\n",
    "    proj_cdf_true = proj_cdf(y_int.view(-1,1)).sum(-1) / n_mix\n",
    "    proj_cdf_est = (proj_atoms_.view(1,-1) <= y_int.view(-1,1)).sum(-1) / atoms_.shape[0]\n",
    "    ## trapzoidal\n",
    "    abs_diff = (proj_cdf_est - proj_cdf_true).abs()\n",
    "    temp = ((abs_diff[:-1] + abs_diff[1:])).sum() / 2 / n_int * (proj_atoms_[-1] - proj_atoms_[0])\n",
    "    temp = temp + ((proj_cdf_true[0]-1/proj_atoms_.size()[0]).abs() + (proj_cdf_true[-1]-1).abs()) * 0.5\n",
    "    return temp\n",
    "\n",
    "for i in range(N_q):\n",
    "    if (i+1) % 100 == 0:\n",
    "        clear_output(wait=True)\n",
    "        display('Projected W error compuations:' + str(i+1) + '/' + str(N_q))\n",
    "    proj_cdf = torch.distributions.normal.Normal(loc=mean[i], scale=std[i]).cdf\n",
    "    for j in range(len(k_lst)):\n",
    "        proj_W_all[j][i] = compute_proj_W(atoms_raw[j][i], vec[i], proj_cdf)\n",
    "    proj_W_all[-1][i] = compute_proj_W(y_lip[i], vec[i], proj_cdf)\n",
    "\n",
    "time_end = time.time()\n",
    "print(\"This cell takes %.2f seconds.\" % (time_end-time_start))\n"
   ]
  },
  {
   "cell_type": "code",
   "execution_count": 9,
   "metadata": {},
   "outputs": [
    {
     "name": "stdout",
     "output_type": "stream",
     "text": [
      "Below is the summary of the projected Wasserstein errors.\n",
      "\n",
      "For raw estimators in k_lst:\n",
      "k= 300\n",
      "mean:  0.026877154 , std:  0.015899928 , 25%-quantile:  0.01622233 , median:  0.022236373 , 75%-quantile:  0.032303795\n",
      "k= 1000\n",
      "mean:  0.015650978 , std:  0.009062755 , 25%-quantile:  0.009515451 , median:  0.013010053 , 75%-quantile:  0.019105328\n",
      "k= 3000\n",
      "mean:  0.014095547 , std:  0.0077919024 , 25%-quantile:  0.008790311 , median:  0.012058993 , 75%-quantile:  0.017009318\n",
      "k= 10000\n",
      "mean:  0.023826515 , std:  0.012838121 , 25%-quantile:  0.014481579 , median:  0.020289756 , 75%-quantile:  0.029738521\n",
      "\n",
      "For LipNet with one_over_eps = 10 and bool_sparse = False :\n",
      "mean:  0.0517583 , std:  0.037273522 , 25%-quantile:  0.021774177 , median:  0.03975817 , 75%-quantile:  0.073446594\n",
      "number of nan loss: 0\n"
     ]
    }
   ],
   "source": [
    "print(\"Below is the summary of the projected Wasserstein errors.\\n\")\n",
    "print(\"For raw estimators in k_lst:\")\n",
    "for i in range(len(k_lst)):\n",
    "    k_, proj_W = k_lst[i], proj_W_all[i]\n",
    "    temp = proj_W.sort()[0]\n",
    "    print(\"k=\", k_)\n",
    "    print(\"mean: \", torch.mean(temp).cpu().numpy(), \", std: \", torch.std(temp).cpu().numpy(), \n",
    "          \", 25%-quantile: \", temp[int(0.25*N_q)].cpu().numpy(), \n",
    "          \", median: \", temp[int(0.5*N_q)].cpu().numpy(), \n",
    "          \", 75%-quantile: \", temp[int(0.75*N_q)].cpu().numpy() )\n",
    "\n",
    "print(\"\\nFor LipNet with one_over_eps =\", one_over_eps, \"and bool_sparse =\", bool_sparse, \":\")\n",
    "temp = proj_W_all[-1].sort()[0]\n",
    "print(\"mean: \", torch.mean(temp).cpu().numpy(), \", std: \", torch.std(temp).cpu().numpy(), \n",
    "      \", 25%-quantile: \", temp[int(0.25*N_q)].cpu().numpy(), \n",
    "      \", median: \", temp[int(0.5*N_q)].cpu().numpy(), \n",
    "      \", 75%-quantile: \", temp[int(0.75*N_q)].cpu().numpy() )\n",
    "print(\"number of nan loss: \" + str(n_nan))"
   ]
  },
  {
   "cell_type": "code",
   "execution_count": 10,
   "metadata": {
    "colab": {
     "base_uri": "https://localhost:8080/",
     "height": 1000
    },
    "id": "3dc0s7tZHZ_1",
    "outputId": "650edeb0-d575-40b9-c12c-2e637bf8d957"
   },
   "outputs": [
    {
     "name": "stdout",
     "output_type": "stream",
     "text": [
      "Hisitongams of raw estimators in k_lst is plotted first, then stdnet, then lipnet.\n",
      "\n",
      "[   0  276 1680 2175 1742 1191  812  584  413  304  200  153  109  108\n",
      "   72   44   28   29   21   59]\n",
      "\n"
     ]
    },
    {
     "data": {
      "image/png": "[encoded data removed]",
      "text/plain": [
       "<Figure size 500x500 with 1 Axes>"
      ]
     },
     "metadata": {},
     "output_type": "display_data"
    },
    {
     "name": "stdout",
     "output_type": "stream",
     "text": [
      "[ 106 2808 3074 1751  948  539  349  197   93   54   32   17   13   10\n",
      "    3    3    3    0    0    0]\n",
      "\n"
     ]
    },
    {
     "data": {
      "image/png": "[encoded data removed]",
      "text/plain": [
       "<Figure size 500x500 with 1 Axes>"
      ]
     },
     "metadata": {},
     "output_type": "display_data"
    },
    {
     "name": "stdout",
     "output_type": "stream",
     "text": [
      "[ 241 3228 3218 1608  791  406  236  123   93   28   20    4    3    1\n",
      "    0    0    0    0    0    0]\n",
      "\n"
     ]
    },
    {
     "data": {
      "image/png": "[encoded data removed]",
      "text/plain": [
       "<Figure size 500x500 with 1 Axes>"
      ]
     },
     "metadata": {},
     "output_type": "display_data"
    },
    {
     "name": "stdout",
     "output_type": "stream",
     "text": [
      "[   0  494 2223 2187 1551 1102  750  548  373  259  209  117   87   33\n",
      "   31   17    5    6    2    6]\n",
      "\n"
     ]
    },
    {
     "data": {
      "image/png": "[encoded data removed]",
      "text/plain": [
       "<Figure size 500x500 with 1 Axes>"
      ]
     },
     "metadata": {},
     "output_type": "display_data"
    },
    {
     "name": "stdout",
     "output_type": "stream",
     "text": [
      "[   2  149  716 1203 1119  759  588  481  447  394  390  362  361  328\n",
      "  293  264  222  229  214 1479]\n",
      "\n"
     ]
    },
    {
     "data": {
      "image/png": "[encoded data removed]",
      "text/plain": [
       "<Figure size 500x500 with 1 Axes>"
      ]
     },
     "metadata": {},
     "output_type": "display_data"
    }
   ],
   "source": [
    "print(\"Hisitongams of raw estimators in k_lst is plotted first, then stdnet, then lipnet.\\n\")\n",
    "bins = np.arange(21) / 20 * 0.1\n",
    "bins[-1] = 1\n",
    "bins_plot = np.arange(21) / 20 * 0.1\n",
    "for proj_W in proj_W_all:\n",
    "    counts, _ = np.histogram(proj_W.detach().cpu().numpy(), bins=bins)\n",
    "    print(counts)\n",
    "    # print(bins)\n",
    "    print()\n",
    "    plt.figure(figsize=(5,5))\n",
    "    plt.stairs(counts/N_q, bins_plot)\n",
    "    plt.xlim([0,0.1])\n",
    "    plt.ylim([0,0.61])\n",
    "    plt.show()"
   ]
  },
  {
   "cell_type": "code",
   "execution_count": 11,
   "metadata": {
    "id": "iirGZfftyYno"
   },
   "outputs": [],
   "source": [
    "# import matplotlib.pyplot as plt\n",
    "# import matplotlib.gridspec as gridspec"
   ]
  },
  {
   "cell_type": "code",
   "execution_count": 12,
   "metadata": {
    "editable": true,
    "slideshow": {
     "slide_type": ""
    },
    "tags": []
   },
   "outputs": [],
   "source": [
    "# k_plot_vec = [k] ### change k here to see impact of k on empirical measures, e.g., [1000, 3000, int(1e4)]\n",
    "# # x = torch.tensor([[ 0.12, -0.33,  0.10]], device=device) ### for reproducibility\n",
    "# x = torch.rand(1, d_X, device=device) - 0.5\n",
    "\n",
    "# # compuate required outcomes\n",
    "# x.requires_grad = True\n",
    "# y_lip = knn_lip.atomnet(x)\n",
    "# indx_near = torch.sum(torch.abs(data_tensor[:,:d_X] - x),-1).sort()[1]\n",
    "\n",
    "# # print related stuff\n",
    "# print(\"Evaluated at x = \" + repr(x[0].detach().cpu().numpy()))\n",
    "\n",
    "# div_abs = 0\n",
    "\n",
    "# div_abs = 0\n",
    "# for d in range(d_X):\n",
    "#     for i in range(knn_lip.atomnet.n_atoms):\n",
    "#         div_abs += torch.abs(torch.autograd.grad(y_lip[0,i,d], x, create_graph=False, retain_graph=True)[0])\n",
    "# div_abs = div_abs.sum() / knn_lip.atomnet.n_atoms\n",
    "# print(\"Absolute divergence of LipNet:\" + str(div_abs.item()))\n",
    "# # if knn_lip.atomnet.L.requires_grad:\n",
    "# #    print(\"L = \" + str(knn_lip.atomnet.lip.data.detach().cpu().numpy()))\n",
    "\n",
    "# # vectors for projection\n",
    "# vec = torch.tensor([\n",
    "#     [1,0,0], [1,1,0], [1,-1,0], [1,-1,1],\n",
    "#     [0,1,0], [0,1,1], [0,1,-1], [1,1,-1],\n",
    "#     [0,0,1], [1,0,1], [-1,0,1], [-1,1,1]\n",
    "#                     ], dtype=torch.float, device=device)\n",
    "\n",
    "# # prepare subplots\n",
    "# plt.rcdefaults()\n",
    "# fig = plt.figure(figsize=(20, 20))\n",
    "# gs = gridspec.GridSpec(4, 4, wspace=0.2, hspace=0.2)\n",
    "# for i_v in range(len(vec)):\n",
    "#     exec(\"ax\"+str(i_v)+\" = fig.add_subplot(gs[\"+str(i_v)+\"])\")\n",
    "\n",
    "\n",
    "# # plot projected conditional cdfs\n",
    "# for i_v in range(len(vec)):\n",
    "#     ax_name = \"ax\" + str(i_v)\n",
    "#     eval(ax_name + \".title.set_text(str(vec[i_v].detach().cpu().numpy()))\")\n",
    "\n",
    "#     ## plot cdf according to LipNet\n",
    "#     n_atoms = knn_lip.atomnet.n_atoms\n",
    "#     atoms_lipnet = torch.matmul(y_lip[0], vec[i_v].view(-1,1))\n",
    "#     atoms_lipnet = atoms_lipnet[:,0].sort()[0]\n",
    "#     eval(ax_name + \".plot(atoms_lipnet.detach().cpu().numpy(), np.arange(n_atoms+1)[1:]/n_atoms,  color='darkslateblue', label='LipNet')\")\n",
    "\n",
    "#     ## plot cdf according to raw estiamtor used in training\n",
    "#     for k_plot in k_plot_vec:\n",
    "#         y_near = data_tensor[indx_near[:k_plot]][:, d_X:]\n",
    "#         atoms_emp = torch.matmul(y_near, vec[i_v].view(-1,1))\n",
    "#         atoms_emp = atoms_emp[:,0].sort()[0]\n",
    "#         if len(k_plot_vec) == 1:\n",
    "#             eval(ax_name + \".plot(atoms_emp.detach().cpu().numpy(), np.arange(k_plot+1)[1:]/k_plot, color='goldenrod', label='Raw, k='+str(k_plot_vec[0]))\")\n",
    "#         else: ### not a good plot\n",
    "#             color = np.random.rand(4) *  np.array([0.9, 0.9, 0.9, 1])\n",
    "#             eval(ax_name + \".plot(atoms_emp.detach().cpu().numpy(), np.arange(k_plot+1)[1:]/k_plot, color=color, label='Raw, k='+str(k_plot))\")\n",
    "\n",
    "#     ## plot cdf according to model\n",
    "#     x_left, x_right = -max(-atoms_emp[0], -atoms_lipnet[0]), max(atoms_emp[-1], atoms_lipnet[-1])\n",
    "#     x_plot = torch.linspace(float(x_left), float(x_right), 100, device=device)\n",
    "#     A_x0 = torch.matmul(A, x.view(-1,1))[:,:,0]\n",
    "#     B_x0 = torch.matmul(B, x.view(1,-1,1))[:,:,:,0]\n",
    "#     mean = torch.sum(torch.sin(A_x0) * vec[i_v], -1)\n",
    "#     std = noise_scale * torch.matmul( torch.cos(B_x0).transpose(-2,-1), vec[i_v] ).square().sum(-1).sqrt()\n",
    "#     cdf = torch.distributions.normal.Normal(loc=mean, scale=std).cdf\n",
    "#     y_plot = torch.sum(cdf(x_plot.view(-1,1)), -1) / n_mix\n",
    "#     eval(ax_name + \".plot(x_plot.detach().cpu().numpy(), y_plot.detach().cpu().numpy(), '--',  color='grey', label='True')\")\n",
    "\n",
    "\n",
    "\n",
    "# ax10.legend(loc='upper center', bbox_to_anchor=(-0.1, -0.1), fancybox=False, shadow=False, ncol=10, fontsize='xx-large')\n",
    "# plt.show()\n",
    "\n",
    "\n",
    "\n"
   ]
  },
  {
   "cell_type": "code",
   "execution_count": null,
   "metadata": {},
   "outputs": [],
   "source": []
  }
 ],
 "metadata": {
  "accelerator": "GPU",
  "colab": {
   "collapsed_sections": [
    "vWLTslQ4Gv90"
   ],
   "gpuType": "L4",
   "provenance": []
  },
  "kernelspec": {
   "display_name": "Python 3 (ipykernel)",
   "language": "python",
   "name": "python3"
  },
  "language_info": {
   "codemirror_mode": {
    "name": "ipython",
    "version": 3
   },
   "file_extension": ".py",
   "mimetype": "text/x-python",
   "name": "python",
   "nbconvert_exporter": "python",
   "pygments_lexer": "ipython3",
   "version": "3.12.3"
  }
 },
 "nbformat": 4,
 "nbformat_minor": 4
}
